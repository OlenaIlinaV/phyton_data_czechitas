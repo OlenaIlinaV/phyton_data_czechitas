{
 "cells": [
  {
   "cell_type": "markdown",
   "metadata": {},
   "source": [
    "🔎 Úkol č. 3 (3b)*\n",
    "\n",
    "Napiš příkaz, který zjistí z proměnné d počet koníčků dané osoby a uloží ho do proměnné count_hobbies. Odkaz na definici proměnné: \n",
    "https://gist.github.com/ZelenyMartin/f365eea018e5fba6e6cf8dbbfa19c1a3\n",
    "\n"
   ]
  },
  {
   "cell_type": "code",
   "execution_count": 5,
   "metadata": {},
   "outputs": [],
   "source": [
    "d = {\n",
    "    \"firstName\": \"Jane\",\n",
    "    \"lastName\": \"Doe\",\n",
    "    \"hobbies\": [\"running\", \"sky diving\", \"singing\"],\n",
    "    \"age\": 35,\n",
    "    \"children\": [\n",
    "        {\n",
    "            \"firstName\": \"Alice\",\n",
    "            \"age\": 6\n",
    "        },\n",
    "        {\n",
    "            \"firstName\": \"Bob\",\n",
    "            \"age\": 8\n",
    "        }\n",
    "    ]\n",
    "}"
   ]
  },
  {
   "cell_type": "code",
   "execution_count": 11,
   "metadata": {},
   "outputs": [
    {
     "name": "stdout",
     "output_type": "stream",
     "text": [
      "3\n"
     ]
    }
   ],
   "source": [
    "count_hobbies = len(d[\"hobbies\"])\n",
    "print(count_hobbies)"
   ]
  },
  {
   "cell_type": "markdown",
   "metadata": {},
   "source": [
    "🔎 Úkol č. 4 (3b)*\n",
    "\n",
    "Pro zadanou proměnnou w: w = [\"Monday\", \"Tuesday\", \"Wednesday\", \"Thursday\", \"Friday\", \"Saturday\", \"Sunday\"]\n",
    "Napiš výraz, který vrátí seznam pracovních dnů, tedy [“Monday”, “Tuesday”, “Wednesday”, “Thursday”, “Friday”].\n"
   ]
  },
  {
   "cell_type": "code",
   "execution_count": 13,
   "metadata": {},
   "outputs": [],
   "source": [
    "w = [\"Monday\", \"Tuesday\", \"Wednesday\", \"Thursday\", \"Friday\", \"Saturday\", \"Sunday\"]"
   ]
  },
  {
   "cell_type": "code",
   "execution_count": 15,
   "metadata": {},
   "outputs": [
    {
     "data": {
      "text/plain": [
       "['Monday', 'Tuesday', 'Wednesday', 'Thursday', 'Friday']"
      ]
     },
     "execution_count": 15,
     "metadata": {},
     "output_type": "execute_result"
    }
   ],
   "source": [
    "w[0:5]"
   ]
  },
  {
   "cell_type": "markdown",
   "metadata": {},
   "source": [
    "🔎 Úkol č. 5 (5b)*\n",
    "\n",
    " Pro zadanou proměnnou fruit_sales napiš kód, který vypočítá celkovou tržbu za ovoce. Odkaz na definici proměnné: \n",
    "https://gist.github.com/ZelenyMartin/e4d8a55a797af0753bc507768ea60721. \n",
    "Pošli nám jako odpověď python soubor."
   ]
  },
  {
   "cell_type": "code",
   "execution_count": 1,
   "metadata": {},
   "outputs": [],
   "source": [
    "fruit_sales = [\n",
    "    {\"fruit\": \"apple\", \"quantity\": 30, \"price_per_unit\": 1.2},\n",
    "    {\"fruit\": \"orange\", \"quantity\": 45, \"price_per_unit\": 0.8},\n",
    "    {\"fruit\": \"banana\", \"quantity\": 25, \"price_per_unit\": 0.6},\n",
    "    {\"fruit\": \"grape\", \"quantity\": 40, \"price_per_unit\": 2.5},\n",
    "]"
   ]
  },
  {
   "cell_type": "code",
   "execution_count": 2,
   "metadata": {},
   "outputs": [
    {
     "data": {
      "text/plain": [
       "187.0"
      ]
     },
     "execution_count": 2,
     "metadata": {},
     "output_type": "execute_result"
    }
   ],
   "source": [
    "total_sale = 0\n",
    "\n",
    "for radek in fruit_sales:\n",
    "    total_sale = total_sale + radek[\"quantity\"] * radek[\"price_per_unit\"]\n",
    "total_sale"
   ]
  }
 ],
 "metadata": {
  "kernelspec": {
   "display_name": "Python 3",
   "language": "python",
   "name": "python3"
  },
  "language_info": {
   "codemirror_mode": {
    "name": "ipython",
    "version": 3
   },
   "file_extension": ".py",
   "mimetype": "text/x-python",
   "name": "python",
   "nbconvert_exporter": "python",
   "pygments_lexer": "ipython3",
   "version": "3.11.7"
  }
 },
 "nbformat": 4,
 "nbformat_minor": 2
}
