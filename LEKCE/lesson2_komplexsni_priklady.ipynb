{
 "cells": [
  {
   "cell_type": "markdown",
   "metadata": {},
   "source": [
    "# 2 TASK Počet útočníků v Pandas"
   ]
  },
  {
   "cell_type": "code",
   "execution_count": 1,
   "metadata": {},
   "outputs": [
    {
     "data": {
      "text/plain": [
       "Lannister                      9\n",
       "Greyjoy                        8\n",
       "Stark                          8\n",
       "Baratheon                      6\n",
       "Tully                          3\n",
       "Bolton                         3\n",
       "Frey                           3\n",
       "Mormont                        2\n",
       "Karstark                       2\n",
       "Glover                         2\n",
       "Bracken                        1\n",
       "Brave Companions               1\n",
       "Thenns                         1\n",
       "Brotherhood without Banners    1\n",
       "Giants                         1\n",
       "Darry                          1\n",
       "Free folk                      1\n",
       "Name: count, dtype: int64"
      ]
     },
     "execution_count": 1,
     "metadata": {},
     "output_type": "execute_result"
    }
   ],
   "source": [
    "import pandas as pd\n",
    "\n",
    "\n",
    "battles = \"https://kodim.cz/cms/assets/czechitas/uvod-do-progr-2/uvod-do-programovani-2/komplexni-priklad/zadani/battles.tsv\"\n",
    "\n",
    "data = pd.read_csv(battles, sep=\"\\t\")\n",
    "\n",
    "\n",
    "# data = data.groupby(\"attacker_1\").size()\n",
    "\n",
    "data = pd.concat([data[\"attacker_1\"], data[\"attacker_2\"], data[\"attacker_3\"], data[\"attacker_4\"]])\n",
    "\n",
    "data.value_counts()"
   ]
  }
 ],
 "metadata": {
  "kernelspec": {
   "display_name": "Python 3",
   "language": "python",
   "name": "python3"
  },
  "language_info": {
   "codemirror_mode": {
    "name": "ipython",
    "version": 3
   },
   "file_extension": ".py",
   "mimetype": "text/x-python",
   "name": "python",
   "nbconvert_exporter": "python",
   "pygments_lexer": "ipython3",
   "version": "3.11.7"
  }
 },
 "nbformat": 4,
 "nbformat_minor": 2
}
