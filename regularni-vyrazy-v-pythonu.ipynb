{
 "cells": [
  {
   "cell_type": "markdown",
   "metadata": {},
   "source": [
    "# Regulární výrazy v Pythonu"
   ]
  },
  {
   "cell_type": "markdown",
   "metadata": {},
   "source": [
    "### modul `re` "
   ]
  },
  {
   "cell_type": "code",
   "execution_count": 2,
   "metadata": {},
   "outputs": [
    {
     "data": {
      "text/plain": [
       "re.compile(r'\\d{9,10}', re.UNICODE)"
      ]
     },
     "execution_count": 2,
     "metadata": {},
     "output_type": "execute_result"
    }
   ],
   "source": [
    "import re\n",
    "\n",
    "## Vytvoření vzoru\n",
    "regex_rodne_cislo = re.compile(r\"\\d{9,10}\")\n",
    "regex_rodne_cislo"
   ]
  },
  {
   "cell_type": "code",
   "execution_count": 5,
   "metadata": {},
   "outputs": [
    {
     "data": {
      "text/plain": [
       "<re.Match object; span=(0, 10), match='2309867462'>"
      ]
     },
     "execution_count": 5,
     "metadata": {},
     "output_type": "execute_result"
    }
   ],
   "source": [
    "rezetec = \"2309867462\"\n",
    "regex_rodne_cislo.search(rezetec)\n",
    "regex_rodne_cislo.match(rezetec)\n",
    "regex_rodne_cislo.fullmatch(rezetec)\n"
   ]
  },
  {
   "cell_type": "markdown",
   "metadata": {},
   "source": [
    "### funkce `search`, `match`, `fullmatch`"
   ]
  },
  {
   "cell_type": "code",
   "execution_count": null,
   "metadata": {},
   "outputs": [],
   "source": [
    "regex_rodne_cislo = re.compile(r\"\\d{9,10}\")\n",
    "\n",
    "rezetec = \"Moje rodné číslo je 9511121234\" # řetězec obsahuje rodné číslo\n",
    "rezetec_presna_shoda = \"9511121234\" # řetězec je rodné číslo\n",
    "retezec_na_zacatku = \"9511121234 je moje rodné číslo.\" # řetězec začína rodným číslem\n",
    "\n",
    "print(\"\\nSearch:\")\n",
    "print(regex_rodne_cislo.search(rezetec)) # řetězec obsahuje rodné číslo\n",
    "print(regex_rodne_cislo.search(rezetec_presna_shoda)) # řetězec je rodné číslo\n",
    "print(regex_rodne_cislo.search(retezec_na_zacatku)) # řetězec začína rodným číslem\n",
    "\n",
    "print(\"\\nMatch:\")\n",
    "print(regex_rodne_cislo.match(rezetec)) # řetězec obsahuje rodné číslo\n",
    "print(regex_rodne_cislo.match(rezetec_presna_shoda)) # řetězec je rodné číslo\n",
    "print(regex_rodne_cislo.match(retezec_na_zacatku)) # řetězec začína rodným číslem\n",
    "\n",
    "\n",
    "print(\"\\nFullmatch:\")\n",
    "print(regex_rodne_cislo.fullmatch(rezetec)) # řetězec obsahuje rodné číslo\n",
    "print(regex_rodne_cislo.fullmatch(rezetec_presna_shoda)) # řetězec je rodné číslo\n",
    "print(regex_rodne_cislo.fullmatch(retezec_na_zacatku)) # řetězec začína rodným číslem"
   ]
  },
  {
   "cell_type": "markdown",
   "metadata": {},
   "source": [
    "### Podmínky\n",
    "\n",
    "- Pokud podmínce vložíme nějaký smysluplný výraz, vyhodnotí ho jako pravda.\n",
    "- Pokud podmínce vložíme prázdnou hodnotu None, vyhodnotí ji jako nepravda.\n",
    "\n"
   ]
  },
  {
   "cell_type": "code",
   "execution_count": null,
   "metadata": {},
   "outputs": [],
   "source": [
    "regex_rodne_cislo = re.compile(r\"\\d{9,10}\")\n",
    "\n",
    "rodne_cislo = \"9910011234\"\n",
    "hledani = regex_rodne_cislo.fullmatch(rodne_cislo)\n",
    "\n",
    "if hledani:\n",
    "    print(\"Rodné číslo je v pořádku!\")\n",
    "else:\n",
    "    print(\"Nesprávné rodné číslo!\")"
   ]
  },
  {
   "cell_type": "code",
   "execution_count": null,
   "metadata": {},
   "outputs": [],
   "source": [
    "## E-maily\n",
    "regex_email = re.compile(r\"\\w+@\\w+\\.cz\")\n",
    "\n",
    "email = \"info@czechitas.cz\"\n",
    "\n",
    "hledani = regex_email.fullmatch(email)\n",
    "if hledani:\n",
    "    print(\"E-mail je v pořádku!\")\n",
    "else:\n",
    "    print(\"Nesprávný e-mail!\")"
   ]
  },
  {
   "cell_type": "markdown",
   "metadata": {},
   "source": [
    "### funkce `findall()`"
   ]
  },
  {
   "cell_type": "code",
   "execution_count": 6,
   "metadata": {},
   "outputs": [
    {
     "name": "stdout",
     "output_type": "stream",
     "text": [
      "['6407156800', '8655057477', '7752126712']\n"
     ]
    }
   ],
   "source": [
    "zapis = \"\"\"\n",
    "Zápisy o provedených vyšetřeních:\n",
    "Pacient 6407156800 trpěl bolestí zad a byl poslán na vyšetření. \n",
    "Pacientka 8655057477 přišla na kontrolu po zranění kotníku.\n",
    "Do ordinace telefonovala pacientka 7752126712, které byl elektronicky vydán recept na Paralen. \n",
    "\"\"\"\n",
    "\n",
    "regex_rodne_cislo = re.compile(r\"\\d{9,10}\")\n",
    "\n",
    "vysledky = regex_rodne_cislo.findall(zapis)\n",
    "print(vysledky)\n",
    "\n",
    "## Poznamka: funkce findall nerozumi seskupovani pomoci kulatych zavorek, resp. vrací právě jen ty skupiny"
   ]
  },
  {
   "cell_type": "markdown",
   "metadata": {},
   "source": [
    "### funkce `sub()`"
   ]
  },
  {
   "cell_type": "code",
   "execution_count": 7,
   "metadata": {},
   "outputs": [
    {
     "name": "stdout",
     "output_type": "stream",
     "text": [
      "\n",
      "Zápisy o provedených vyšetřeních:\n",
      "Pacient X trpěl bolestí zad a byl poslán na vyšetření. \n",
      "Pacientka X přišla na kontrolu po zranění kotníku.\n",
      "Do ordinace telefonovala pacientka X, které byl elektronicky vydán recept na Paralen. \n",
      "\n"
     ]
    }
   ],
   "source": [
    "zapis = \"\"\"\n",
    "Zápisy o provedených vyšetřeních:\n",
    "Pacient 6407156800 trpěl bolestí zad a byl poslán na vyšetření. \n",
    "Pacientka 8655057477 přišla na kontrolu po zranění kotníku.\n",
    "Do ordinace telefonovala pacientka 7752126712, které byl elektronicky vydán recept na Paralen. \n",
    "\"\"\"\n",
    "\n",
    "regex_rodne_cislo = re.compile(r\"\\d{9,10}\")\n",
    "\n",
    "anonymni_zapis = regex_rodne_cislo.sub(\"X\", zapis)\n",
    "print(anonymni_zapis)"
   ]
  },
  {
   "cell_type": "markdown",
   "metadata": {},
   "source": [
    "Завдання"
   ]
  },
  {
   "cell_type": "markdown",
   "metadata": {},
   "source": [
    "1. Uživatelské jméno\n",
    "Наша система вимагає від користувача введення імені користувача. Ім’я користувача має містити лише малі літери та мати довжину не більше 8 символів. Попросіть користувача ввести ім’я користувача та використати регулярний вираз, щоб оцінити, чи правильний введений текст."
   ]
  },
  {
   "cell_type": "code",
   "execution_count": 12,
   "metadata": {},
   "outputs": [
    {
     "name": "stdout",
     "output_type": "stream",
     "text": [
      "<re.Match object; span=(0, 5), match='olena'>\n"
     ]
    }
   ],
   "source": [
    "import re\n",
    "\n",
    "regularni_vyraz = re.compile(r\"\\w[a-z]{1,8}\")\n",
    "\n",
    "name = \"olena\"\n",
    "print(regularni_vyraz.match(name))"
   ]
  },
  {
   "cell_type": "markdown",
   "metadata": {},
   "source": [
    "2. E-mail s tečkou\n",
    "Змініть програму перевірки електронної пошти так, щоб вона також приймала електронні листи, які мають крапку в першій частині, наприклад, jiri.pesik@python.cz ."
   ]
  },
  {
   "cell_type": "code",
   "execution_count": 14,
   "metadata": {},
   "outputs": [
    {
     "name": "stdout",
     "output_type": "stream",
     "text": [
      "<re.Match object; span=(0, 20), match='jiri.pesik@python.cz'>\n"
     ]
    }
   ],
   "source": [
    "import re\n",
    "\n",
    "regularni_vyraz = re.compile(r\"\\w*.\\w+@\\w+\\.cz\")\n",
    "\n",
    "mail = \"jiri.pesik@python.cz\"\n",
    "print(regularni_vyraz.match(mail))"
   ]
  },
  {
   "cell_type": "markdown",
   "metadata": {},
   "source": [
    "3. Záznamy\n",
    "Розглянемо програму, яка зберігає інформацію про дії користувача в текстовому файлі. Приклад файлу наведено нижче.\n",
    "\n",
    "zaznamy = \"\"\"\n",
    "searchNumber: pavca.czechitas action: search phone number of user dita\n",
    "user: pavca action: send sms to phone number +420728123456\n",
    "user: jirka: action: send 2 sms to phone number +420734123456\n",
    "\"\"\"\n",
    "Напишіть програму, яка виведе список усіх телефонних номерів, які згадуються в текстовому файлі.\n",
    "Замініть ці номери телефонів деяким рядком (наприклад, «XXX»), щоб вони були недоступні в записах."
   ]
  },
  {
   "cell_type": "code",
   "execution_count": 18,
   "metadata": {},
   "outputs": [
    {
     "name": "stdout",
     "output_type": "stream",
     "text": [
      "None\n"
     ]
    }
   ],
   "source": [
    "import re\n",
    "\n",
    "zaznamy = \"\"\"\n",
    "searchNumber: pavca.czechitas action: search phone number of user dita\n",
    "user: pavca action: send sms to phone number +420728123456\n",
    "user: jirka: action: send 2 sms to phone number +420734123456\n",
    "\"\"\"\n",
    "\n",
    "regularni_vyraz = re.compile(r\"[+\\d]{13}\")\n",
    "\n",
    "print(regularni_vyraz.match(zaznamy))"
   ]
  }
 ],
 "metadata": {
  "interpreter": {
   "hash": "aee8b7b246df8f9039afb4144a1f6fd8d2ca17a180786b69acc140d282b71a49"
  },
  "kernelspec": {
   "display_name": "Python 3.10.1 64-bit",
   "language": "python",
   "name": "python3"
  },
  "language_info": {
   "codemirror_mode": {
    "name": "ipython",
    "version": 3
   },
   "file_extension": ".py",
   "mimetype": "text/x-python",
   "name": "python",
   "nbconvert_exporter": "python",
   "pygments_lexer": "ipython3",
   "version": "3.11.7"
  },
  "orig_nbformat": 4
 },
 "nbformat": 4,
 "nbformat_minor": 2
}
